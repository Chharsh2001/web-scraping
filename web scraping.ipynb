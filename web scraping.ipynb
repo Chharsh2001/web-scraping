{
 "cells": [
  {
   "cell_type": "code",
   "execution_count": 1,
   "id": "cd96c871-cf41-42ee-9ec4-0b401522bb69",
   "metadata": {},
   "outputs": [
    {
     "name": "stdout",
     "output_type": "stream",
     "text": [
      "Data scraping completed and saved to company\n"
     ]
    }
   ],
   "source": [
    "import requests\n",
    "from bs4 import BeautifulSoup\n",
    "import csv\n",
    "import time\n",
    "import random\n",
    "\n",
    "# Specify the URL and headers\n",
    "url = \"https://www.hubspot.com/products/crm\"\n",
    "headers = {\n",
    "    \"User-Agent\": \"Mozilla/5.0 (Windows NT 10.0; Win64; x64) AppleWebKit/537.36 (KHTML, like Gecko) Chrome/91.0.4472.124 Safari/537.36\"\n",
    "}\n",
    "\n",
    "# Create a CSV file to store the extracted data\n",
    "with open(\"company_data.csv\", \"w\", newline=\"\", encoding=\"utf-8\") as csv_file:\n",
    "    writer = csv.writer(csv_file)\n",
    "    writer.writerow([\"Company Name\", \"Website URL\", \"Contact Number\", \"Location\", \"Industry\", \"Company Description\", \"Email Address\"])\n",
    "\n",
    "    # Loop through the first 2-3 pages of the directory\n",
    "    for page in range(1, 4):  # Adjust range as needed\n",
    "        try:\n",
    "            response = requests.get(url.format(page), headers=headers)\n",
    "            response.raise_for_status()\n",
    "            soup = BeautifulSoup(response.text, \"html.parser\")\n",
    "\n",
    "            # Find the container holding each company's info\n",
    "            companies = soup.find_all(\"div\", class_=\"company-card\")  # Adjust the selector based on website structure\n",
    "\n",
    "            for company in companies:\n",
    "                # Extract details, using placeholder \"N/A\" for missing data\n",
    "                name = company.find(\"h2\", class_=\"company-name\").get_text(strip=True) if company.find(\"h2\", class_=\"company-name\") else \"N/A\"\n",
    "                website = company.find(\"a\", class_=\"website-link\")[\"href\"] if company.find(\"a\", class_=\"website-link\") else \"N/A\"\n",
    "                contact = company.find(\"p\", class_=\"contact-number\").get_text(strip=True) if company.find(\"p\", class_=\"contact-number\") else \"N/A\"\n",
    "                location = company.find(\"p\", class_=\"location\").get_text(strip=True) if company.find(\"p\", class_=\"location\") else \"N/A\"\n",
    "                industry = company.find(\"p\", class_=\"industry\").get_text(strip=True) if company.find(\"p\", class_=\"industry\") else \"N/A\"\n",
    "                description = company.find(\"p\", class_=\"description\").get_text(strip=True) if company.find(\"p\", class_=\"description\") else \"N/A\"\n",
    "                email = company.find(\"a\", class_=\"email\").get(\"href\").replace(\"mailto:\", \"\") if company.find(\"a\", class_=\"email\") else \"N/A\"\n",
    "\n",
    "                # Write the data to CSV\n",
    "                writer.writerow([name, website, contact, location, industry, description, email])\n",
    "\n",
    "            # Delay to avoid being blocked\n",
    "            time.sleep(random.uniform(2, 5))\n",
    "\n",
    "        except requests.exceptions.RequestException as e:\n",
    "            print(f\"An error occurred: {e}\")\n",
    "\n",
    "print(\"Data scraping completed and saved to company\")"
   ]
  }
 ],
 "metadata": {
  "kernelspec": {
   "display_name": "Python 3 (ipykernel)",
   "language": "python",
   "name": "python3"
  },
  "language_info": {
   "codemirror_mode": {
    "name": "ipython",
    "version": 3
   },
   "file_extension": ".py",
   "mimetype": "text/x-python",
   "name": "python",
   "nbconvert_exporter": "python",
   "pygments_lexer": "ipython3",
   "version": "3.11.7"
  }
 },
 "nbformat": 4,
 "nbformat_minor": 5
}
